{
 "cells": [
  {
   "cell_type": "markdown",
   "metadata": {},
   "source": [
    "# SQL (using Python's sqlite package)  \n",
    "SQL (Structured Query Language) is a programming language whose roots go back to designs of relational databases by Edgar Codd in 1970.  SQL itself was designed by Donald Chamberlain and Raymond Boyce, and refined over the years.  \n",
    "\n",
    "Unlike Python, which is a very flexible, versatile language, SQL is designed for essentially one purpose - fast and effective interaction with relational databases.  "
   ]
  },
  {
   "cell_type": "markdown",
   "metadata": {},
   "source": [
    "What's a relational database?  \n",
    "It's a collection of connected data, broken up into specialized subtables.  The connections between the tables are the \"relations.\"  \n",
    "(See drawn examples)"
   ]
  },
  {
   "cell_type": "markdown",
   "metadata": {},
   "source": [
    "# SQL Query Structure"
   ]
  },
  {
   "cell_type": "raw",
   "metadata": {},
   "source": [
    "A sample create statement:\n",
    "CREATE TABLE table_name (\n",
    "    column1 datatype,\n",
    "    column2 datatype,\n",
    "    column3 datatype,\n",
    "   ....\n",
    ");\n",
    "Example:\n",
    "CREATE TABLE Students (\n",
    "    StudentID int,\n",
    "    LastName varchar(255),\n",
    "    FirstName varchar(255),\n",
    "    Address varchar(255),\n",
    "    City varchar(255) \n",
    ");\n",
    "\n",
    "A sample query - to pull data from an existing database\n",
    "SELECT [DISTINCT] Attribute_List \n",
    "FROM R1,R2,…,RM\n",
    "[WHERE condition]\n",
    "[GROUP BY (Attributes)[HAVING condition]]\n",
    "[ORDER BY(Attributes)[DESC]];\n"
   ]
  },
  {
   "cell_type": "markdown",
   "metadata": {},
   "source": [
    "# How does Python factor in?\n",
    "In general, to create or query a database, you need a database server to create on or query from.  \n",
    "There are some good online tutorials that host their own databases, for example https://www.w3schools.com/sql/default.asp\n",
    "that you can use to query from.  \n",
    "But, if we want to create our own, or set up a query not through their website, we can use a Python library called Sqlite (again, there are other libraries that serve this purpose, but this one is a good starting point, though it has some limitations.)"
   ]
  },
  {
   "cell_type": "markdown",
   "metadata": {},
   "source": [
    "When you connect to an SQLite database file that does not exist, SQLite automatically creates the new database for you.\n",
    "\n",
    "To create a database, first, you have to create a Connection object that represents the database using the connect() function of the sqlite3 module.\n",
    "\n",
    "For example, the following Python program creates a new database file sample.db in the c:\\my_user_name\\documents\\cs2020-2021\\typythonsql\\db folder."
   ]
  },
  {
   "cell_type": "code",
   "execution_count": 1,
   "metadata": {},
   "outputs": [
    {
     "name": "stdout",
     "output_type": "stream",
     "text": [
      "2.6.0\n"
     ]
    }
   ],
   "source": [
    "# based on ideas from https://www.sqlitetutorial.net/sqlite-python/creating-database/\n",
    "import sqlite3\n",
    "from sqlite3 import Error\n",
    "\n",
    "def create_connection(db_file):\n",
    "    \"\"\" create a database connection to a SQLite database \"\"\"\n",
    "    conn = None\n",
    "    try:\n",
    "        conn = sqlite3.connect(db_file)\n",
    "        print(sqlite3.version)\n",
    "    except Error as e:\n",
    "        print(e)\n",
    "    finally:\n",
    "        if conn:\n",
    "            conn.close()\n",
    "if __name__ == '__main__':\n",
    "#    create_connection(r\"C:\\my_user_name\\documents\\cs2020-2021\\typythonsql\\db\\sample.db\")\n",
    "    create_connection(r\"C:\\erichansen\\documents\\cs2020-2021\\typythonsql\\db\\sample.db\")\n",
    "#you can also create in RAM Memory instead of a file (hard drive)\n",
    "#by passing :memory: instead of the filepath\n"
   ]
  },
  {
   "cell_type": "code",
   "execution_count": 2,
   "metadata": {},
   "outputs": [],
   "source": [
    "#Create a connection that doesn't close\n"
   ]
  },
  {
   "cell_type": "code",
   "execution_count": 3,
   "metadata": {},
   "outputs": [],
   "source": [
    "#use that connection and give it a basic select statement"
   ]
  },
  {
   "cell_type": "code",
   "execution_count": null,
   "metadata": {},
   "outputs": [],
   "source": []
  }
 ],
 "metadata": {
  "kernelspec": {
   "display_name": "Python 3",
   "language": "python",
   "name": "python3"
  },
  "language_info": {
   "codemirror_mode": {
    "name": "ipython",
    "version": 3
   },
   "file_extension": ".py",
   "mimetype": "text/x-python",
   "name": "python",
   "nbconvert_exporter": "python",
   "pygments_lexer": "ipython3",
   "version": "3.8.3"
  }
 },
 "nbformat": 4,
 "nbformat_minor": 4
}
